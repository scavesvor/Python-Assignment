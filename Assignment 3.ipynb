{
 "cells": [
  {
   "cell_type": "code",
   "execution_count": 12,
   "metadata": {},
   "outputs": [
    {
     "name": "stdout",
     "output_type": "stream",
     "text": [
      "Zero cannot divide a number but you are free to try\n",
      "Are you satisfied now that you have tried\n"
     ]
    }
   ],
   "source": [
    "# Write a function to compute 5/0 and use try/except to catch the exceptions.\n",
    "\n",
    "\n",
    "def divide():\n",
    "    return 5/0\n",
    "\n",
    "try:\n",
    "    divide()\n",
    "except ZeroDivisionError:\n",
    "    print('Zero cannot divide a number but you are free to try')\n",
    "except:\n",
    "    print('I cannot wait to see you prove me wrong')\n",
    "finally:\n",
    "    print('Are you satisfied now that you have tried')"
   ]
  },
  {
   "cell_type": "code",
   "execution_count": 3,
   "metadata": {},
   "outputs": [
    {
     "name": "stdout",
     "output_type": "stream",
     "text": [
      "Americans Play Baseball\n",
      "Americans Play cricket\n",
      "Americans watch Baseball\n",
      "Americans watch cricket\n",
      "Indians Play Baseball\n",
      "Indians Play cricket\n",
      "Indians watch Baseball\n",
      "Indians watch cricket\n"
     ]
    }
   ],
   "source": [
    "\"\"\"  Implement a Python program to generate all sentences where subject is in [\"Americans\",\n",
    "\"Indians\"] and verb is in [\"Play\", \"watch\"] and the object is in [\"Baseball\",\"cricket\"].\n",
    "Hint: Subject,Verb and Object should be declared in the program as shown below.\n",
    "subjects=[\"Americans \",\"Indians\"]\n",
    "verbs=[\"play\",\"watch\"]\n",
    "objects=[\"Baseball\",\"Cricket\"]  \"\"\"\n",
    "\n",
    "\n",
    "subject = ['Americans', 'Indians']\n",
    "verb = ['Play', 'watch']\n",
    "obj = ['Baseball','cricket']\n",
    "\n",
    "sentence_list = [(sub+' '+ vb + ' ' + ob) for sub in subject for vb in verb for ob in obj]\n",
    "for sentence in sentence_list:\n",
    "    print (sentence)"
   ]
  },
  {
   "cell_type": "code",
   "execution_count": 26,
   "metadata": {},
   "outputs": [
    {
     "name": "stdout",
     "output_type": "stream",
     "text": [
      "The input array is: [1 3 5 7 9]\n",
      "Number of columns in output matrix should be: 3\n",
      "Vander matrix of the input array in decreasing order of powers:\n",
      "\n",
      " [[ 1  1  1]\n",
      " [ 9  3  1]\n",
      " [25  5  1]\n",
      " [49  7  1]\n",
      " [81  9  1]] \n",
      "\n",
      "Vander matrix of the input array in increasing order of powers:\n",
      "\n",
      " [[ 1  1  1]\n",
      " [ 1  3  9]\n",
      " [ 1  5 25]\n",
      " [ 1  7 49]\n",
      " [ 1  9 81]] \n",
      "\n",
      "The input array is: [ 2  4  6  8 10]\n",
      "Number of columns in output matrix should be: 5\n",
      "Vander matrix of the input array in decreasing order of powers:\n",
      "\n",
      " [[   16     8     4     2     1]\n",
      " [  256    64    16     4     1]\n",
      " [ 1296   216    36     6     1]\n",
      " [ 4096   512    64     8     1]\n",
      " [10000  1000   100    10     1]] \n",
      "\n",
      "Vander matrix of the input array in increasing order of powers:\n",
      "\n",
      " [[    1     2     4     8    16]\n",
      " [    1     4    16    64   256]\n",
      " [    1     6    36   216  1296]\n",
      " [    1     8    64   512  4096]\n",
      " [    1    10   100  1000 10000]]\n"
     ]
    }
   ],
   "source": [
    "\"\"\"  Write a function so that the columns of the output matrix are powers of the input vector.\n",
    "The order of the powers is determined by the increasing boolean argument. Specifically, when\n",
    "increasing is False, the i-th output column is the input vector raised element-wise to the power\n",
    "of N - i - 1.\n",
    "HINT: Such a matrix with a geometric progression in each row is named for AlexandreTheophile Vandermonde.  \"\"\"\n",
    "\n",
    "\n",
    "import numpy as np\n",
    "\n",
    "def gen_vander_matrix(ipvector, n, increasing=False):\n",
    "    \n",
    "    if not increasing:\n",
    "        op_matx = np.array([x**(n-1-i) for x in ipvector for i in range(n)]).reshape(ipvector.size,n)\n",
    "    elif increasing:\n",
    "        op_matx = np.array([x**i for x in ipvector for i in range(n)]).reshape(ipvector.size,n)\n",
    "    \n",
    "    return op_matx\n",
    "\n",
    "inputvector = np.array([1,3,5,7,9])\n",
    "no_col_opmat = 3\n",
    "op_matx_dec_order = gen_vander_matrix(inputvector,no_col_opmat,False)\n",
    "op_matx_inc_order = gen_vander_matrix(inputvector,no_col_opmat,True)\n",
    "\n",
    "print('The input array is:',inputvector,)\n",
    "print('Number of columns in output matrix should be:',no_col_opmat,)\n",
    "print('Vander matrix of the input array in decreasing order of powers:\\n\\n',op_matx_dec_order,'\\n')\n",
    "print('Vander matrix of the input array in increasing order of powers:\\n\\n',op_matx_inc_order,'\\n')\n",
    "\n",
    "inputvector = np.array([2,4,6,8,10])\n",
    "no_col_opmat = 5\n",
    "op_matx_dec_order = gen_vander_matrix(inputvector,no_col_opmat,False)\n",
    "op_matx_inc_order = gen_vander_matrix(inputvector,no_col_opmat,True)\n",
    "\n",
    "print('The input array is:',inputvector,)\n",
    "print('Number of columns in output matrix should be:',no_col_opmat,)\n",
    "print('Vander matrix of the input array in decreasing order of powers:\\n\\n',op_matx_dec_order,'\\n')\n",
    "print('Vander matrix of the input array in increasing order of powers:\\n\\n',op_matx_inc_order,)\n"
   ]
  },
  {
   "cell_type": "code",
   "execution_count": null,
   "metadata": {},
   "outputs": [],
   "source": []
  }
 ],
 "metadata": {
  "kernelspec": {
   "display_name": "Python 3",
   "language": "python",
   "name": "python3"
  },
  "language_info": {
   "codemirror_mode": {
    "name": "ipython",
    "version": 3
   },
   "file_extension": ".py",
   "mimetype": "text/x-python",
   "name": "python",
   "nbconvert_exporter": "python",
   "pygments_lexer": "ipython3",
   "version": "3.8.2"
  }
 },
 "nbformat": 4,
 "nbformat_minor": 4
}
